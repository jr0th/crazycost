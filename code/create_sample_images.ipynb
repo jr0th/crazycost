{
 "cells": [
  {
   "cell_type": "markdown",
   "metadata": {
    "deletable": true,
    "editable": true
   },
   "source": [
    "# Create Sample Images\n",
    "A collection of n (e.g. 1000) images will be created for testing the crazy cost function. Each image will be a set that includes two cells approximated by a guassian, a label matrix, a penalty matrix, and a seed matrix.\n",
    "\n",
    "The label matrix will approximate what is expected from annotations by a biologist. Watershed using the seed and fake data image will be used to create the label matrix. Therefore, the label matrix will \"split\" the labels when the two cells overlap as determined by watershed.\n",
    "\n",
    "The penalty matrix is part of the crazy cost that penalizes segmentation solutions that merge (or split?) cells.\n",
    "\n",
    "The placement of the cells will be chosen randomly, except the cells will not touch the border of the image."
   ]
  },
  {
   "cell_type": "code",
   "execution_count": null,
   "metadata": {
    "collapsed": true,
    "deletable": true,
    "editable": true
   },
   "outputs": [],
   "source": [
    "%matplotlib inline\n",
    "\n",
    "import warnings\n",
    "warnings.filterwarnings('ignore')\n",
    "\n",
    "import matplotlib.pyplot\n",
    "\n",
    "import numpy\n",
    "import os\n",
    "import pandas\n",
    "import scipy.ndimage\n",
    "import skimage.feature\n",
    "import skimage.filters\n",
    "import skimage.io\n",
    "import skimage.morphology\n",
    "import skimage.segmentation"
   ]
  },
  {
   "cell_type": "markdown",
   "metadata": {
    "deletable": true,
    "editable": true
   },
   "source": [
    "# User variables\n",
    "* n: the number of images to generate\n",
    "* im_size: the number of pixels defining the length and width of the sample images\n",
    "* cell_radius: the radius of the two sample cells"
   ]
  },
  {
   "cell_type": "code",
   "execution_count": null,
   "metadata": {
    "collapsed": true,
    "deletable": true,
    "editable": true
   },
   "outputs": [],
   "source": [
    "n = 1000\n",
    "im_size = 64\n",
    "cell_radius = 10"
   ]
  },
  {
   "cell_type": "markdown",
   "metadata": {
    "deletable": true,
    "editable": true
   },
   "source": [
    "# Create a table defining the sample set\n",
    "A table will be created that contains the centroid X and Y of each cell and another column with a boolean that indicates whether or not the cells will overlap. One use of this table will be to ensure we have a meaningful number of cells with overlap for testing.\n",
    "\n",
    "The table will also contain path information to the images. Each image will be contained within a directory dedicated to the type of image."
   ]
  },
  {
   "cell_type": "code",
   "execution_count": null,
   "metadata": {
    "collapsed": false,
    "deletable": true,
    "editable": true
   },
   "outputs": [],
   "source": [
    "def merge_check(xy_array):\n",
    "    # xy_array =  [\"cell1_x\", \"cell1_y\", \"cell2_x\", \"cell2_y\"]\n",
    "    is_merge_bool = False\n",
    "    a = xy_array[:2]\n",
    "    b = xy_array[2:]\n",
    "    # find the distance between the centroids of each cell\n",
    "    cen_dist = numpy.linalg.norm(a-b)\n",
    "    if cen_dist <= 2*cell_radius:\n",
    "        is_merge_bool = True\n",
    "    return is_merge_bool, cen_dist"
   ]
  },
  {
   "cell_type": "code",
   "execution_count": null,
   "metadata": {
    "collapsed": false,
    "deletable": true,
    "editable": true
   },
   "outputs": [],
   "source": [
    "# rand_range ensures cells won't end up outside the image.\n",
    "rand_range = im_size - 2*cell_radius\n",
    "print(rand_range)\n",
    "\n",
    "# columns = [\"cell1_x\", \"cell1_y\", \"cell2_x\", \"cell2_y\"]\n",
    "XY_rand = numpy.random.randint(rand_range, size=(n, 4)) + cell_radius"
   ]
  },
  {
   "cell_type": "code",
   "execution_count": null,
   "metadata": {
    "collapsed": false,
    "deletable": true,
    "editable": true
   },
   "outputs": [],
   "source": [
    "matplotlib.pyplot.hist(XY_rand.flatten())\n",
    "matplotlib.pyplot.show()"
   ]
  },
  {
   "cell_type": "code",
   "execution_count": null,
   "metadata": {
    "collapsed": false,
    "deletable": true,
    "editable": true
   },
   "outputs": [],
   "source": [
    "merge_check_array = numpy.apply_along_axis(merge_check, 1, XY_rand)\n",
    "print(\"The percentage of merged cells: {}%\".format(numpy.sum(merge_check_array[:,0])/n*100))"
   ]
  },
  {
   "cell_type": "code",
   "execution_count": null,
   "metadata": {
    "collapsed": true,
    "deletable": true,
    "editable": true
   },
   "outputs": [],
   "source": [
    "cwd = os.getcwd()\n",
    "os.makedirs(os.path.join(cwd, \"..\", \"images\", \"images_label\"), exist_ok=True)\n",
    "os.makedirs(os.path.join(cwd, \"..\", \"images\", \"images_penalty\"), exist_ok=True)\n",
    "os.makedirs(os.path.join(cwd, \"..\", \"images\", \"images_sample\"), exist_ok=True)\n",
    "os.makedirs(os.path.join(cwd, \"..\", \"images\", \"images_seed\"), exist_ok=True)"
   ]
  },
  {
   "cell_type": "code",
   "execution_count": null,
   "metadata": {
    "collapsed": false,
    "deletable": true,
    "editable": true
   },
   "outputs": [],
   "source": [
    "label_filenames = [\"label_{0:0>3}.png\".format(i) for i in range(n)]\n",
    "penalty_filenames = [\"penalty_{0:0>3}.png\".format(i) for i in range(n)]\n",
    "sample_filenames = [\"sample_{0:0>3}.png\".format(i) for i in range(n)]\n",
    "seed1_filenames = [\"seed1_{0:0>3}.png\".format(i) for i in range(n)]\n",
    "seed2_filenames = [\"seed2_{0:0>3}.png\".format(i) for i in range(n)]"
   ]
  },
  {
   "cell_type": "code",
   "execution_count": null,
   "metadata": {
    "collapsed": false,
    "deletable": true,
    "editable": true
   },
   "outputs": [],
   "source": [
    "df_dict = {\n",
    "    \"bool_merge\" : merge_check_array[:,0],\n",
    "    \"cell1_x\" : XY_rand[:,0],\n",
    "    \"cell1_y\" : XY_rand[:,1],\n",
    "    \"cell2_x\" : XY_rand[:,2],\n",
    "    \"cell2_y\" : XY_rand[:,3],\n",
    "    \"centroid_distance\" : merge_check_array[:,1],\n",
    "    \"filename_label\" : label_filenames,\n",
    "    \"filename_penalty\" : penalty_filenames,\n",
    "    \"filename_sample\" : sample_filenames,\n",
    "    \"filename_seed1\" : seed1_filenames,\n",
    "    \"filename_seed2\" : seed2_filenames,\n",
    "          }"
   ]
  },
  {
   "cell_type": "code",
   "execution_count": null,
   "metadata": {
    "collapsed": false,
    "deletable": true,
    "editable": true
   },
   "outputs": [],
   "source": [
    "df = pandas.DataFrame(df_dict)\n",
    "df.to_csv(os.path.join(cwd, \"..\", \"images\", \"sample_data.csv\"))"
   ]
  },
  {
   "cell_type": "markdown",
   "metadata": {
    "deletable": true,
    "editable": true
   },
   "source": [
    "# Create the seed images"
   ]
  },
  {
   "cell_type": "code",
   "execution_count": null,
   "metadata": {
    "collapsed": true,
    "deletable": true,
    "editable": true
   },
   "outputs": [],
   "source": [
    "def make_seed_images(df_series):\n",
    "    img = numpy.zeros((im_size,im_size), dtype=\"bool_\")\n",
    "    img[df_series[\"cell1_y\"], df_series[\"cell1_x\"]] = 1\n",
    "    filename = os.path.join(cwd, \"..\", \"images\", \"images_seed\", df_series[\"filename_seed1\"])\n",
    "    skimage.io.imsave(filename, img)\n",
    "    img = numpy.zeros((im_size,im_size), dtype=\"bool_\")\n",
    "    img[df_series[\"cell2_y\"], df_series[\"cell2_x\"]] = 1\n",
    "    filename = os.path.join(cwd, \"..\", \"images\", \"images_seed\", df_series[\"filename_seed2\"])\n",
    "    skimage.io.imsave(filename, img)\n",
    "    return"
   ]
  },
  {
   "cell_type": "code",
   "execution_count": null,
   "metadata": {
    "collapsed": false,
    "deletable": true,
    "editable": true
   },
   "outputs": [],
   "source": [
    "_ = df.apply(make_seed_images, axis=1)"
   ]
  },
  {
   "cell_type": "code",
   "execution_count": null,
   "metadata": {
    "collapsed": false,
    "deletable": true,
    "editable": true
   },
   "outputs": [],
   "source": [
    "df_series = df.loc[0]\n",
    "type(df_series)"
   ]
  },
  {
   "cell_type": "code",
   "execution_count": null,
   "metadata": {
    "collapsed": false,
    "deletable": true,
    "editable": true
   },
   "outputs": [],
   "source": [
    "img = numpy.zeros((im_size,im_size), dtype=\"bool_\")\n",
    "img[df_series[\"cell1_y\"], df_series[\"cell1_x\"]] = 1\n",
    "img[df_series[\"cell2_y\"], df_series[\"cell2_x\"]] = 1\n",
    "matplotlib.pyplot.imshow(img)"
   ]
  },
  {
   "cell_type": "markdown",
   "metadata": {
    "deletable": true,
    "editable": true
   },
   "source": [
    "# Create the fake data"
   ]
  },
  {
   "cell_type": "code",
   "execution_count": null,
   "metadata": {
    "collapsed": false,
    "deletable": true,
    "editable": true
   },
   "outputs": [],
   "source": [
    "guassian_stamp = numpy.zeros((2*cell_radius+1, 2*cell_radius+1), dtype=\"uint8\")\n",
    "guassian_stamp[cell_radius,cell_radius] = 255\n",
    "guassian_stamp = skimage.filters.gaussian(guassian_stamp, sigma = cell_radius)\n",
    "guassian_stamp = guassian_stamp/numpy.max(guassian_stamp)*127\n",
    "guassian_stamp.astype(\"uint8\")\n",
    "matplotlib.pyplot.imshow(guassian_stamp)\n",
    "noise_floor = numpy.min(guassian_stamp) "
   ]
  },
  {
   "cell_type": "code",
   "execution_count": null,
   "metadata": {
    "collapsed": true,
    "deletable": true,
    "editable": true
   },
   "outputs": [],
   "source": [
    "def make_sample_images(df_series):\n",
    "    \n",
    "    imgnoise = numpy.random.randint(noise_floor, size=(im_size, im_size))\n",
    "    imgnoise2 = numpy.random.randint(noise_floor/2, size=(im_size, im_size))\n",
    "    \n",
    "    img1 = numpy.zeros((im_size,im_size), dtype=\"uint8\")\n",
    "    \n",
    "    ys_start = df_series[\"cell1_y\"] - cell_radius\n",
    "    ys_end = df_series[\"cell1_y\"] + cell_radius+1\n",
    "\n",
    "\n",
    "    xs_start = df_series[\"cell1_x\"] - cell_radius\n",
    "    xs_end = df_series[\"cell1_x\"] + cell_radius+1\n",
    "\n",
    "    img1[ys_start:ys_end,xs_start:xs_end] = guassian_stamp\n",
    "    imgnoise[ys_start:ys_end,xs_start:xs_end] = 0\n",
    "    \n",
    "    img2 = numpy.zeros((im_size,im_size), dtype=\"uint8\")\n",
    "\n",
    "    ys_start = df_series[\"cell2_y\"] - cell_radius\n",
    "    ys_end = df_series[\"cell2_y\"] + cell_radius+1\n",
    "\n",
    "\n",
    "    xs_start = df_series[\"cell2_x\"] - cell_radius\n",
    "    xs_end = df_series[\"cell2_x\"] + cell_radius+1\n",
    "\n",
    "    img2[ys_start:ys_end,xs_start:xs_end] = guassian_stamp\n",
    "    imgnoise[ys_start:ys_end,xs_start:xs_end] = 0\n",
    "      \n",
    "    img = img1 + img2 + imgnoise + imgnoise2\n",
    "    filename = os.path.join(cwd, \"..\", \"images\", \"images_sample\", df_series[\"filename_sample\"])\n",
    "    skimage.io.imsave(filename, img)\n",
    "    return"
   ]
  },
  {
   "cell_type": "code",
   "execution_count": null,
   "metadata": {
    "collapsed": false,
    "deletable": true,
    "editable": true
   },
   "outputs": [],
   "source": [
    "_ = df.apply(make_sample_images, axis=1)"
   ]
  },
  {
   "cell_type": "markdown",
   "metadata": {
    "deletable": true,
    "editable": true
   },
   "source": [
    "# Create the label matrices"
   ]
  },
  {
   "cell_type": "code",
   "execution_count": null,
   "metadata": {
    "collapsed": false
   },
   "outputs": [],
   "source": [
    "filename = os.path.join(cwd, \"..\", \"images\", \"images_seed\", df_series[\"filename_seed1\"])\n",
    "seed1_img = skimage.io.imread(filename)\n",
    "\n",
    "filename = os.path.join(cwd, \"..\", \"images\", \"images_seed\", df_series[\"filename_seed2\"])\n",
    "seed2_img = skimage.io.imread(filename)\n",
    "\n",
    "markers = skimage.measure.label(seed1_img + seed2_img)\n",
    "\n",
    "filename = os.path.join(cwd, \"..\", \"images\", \"images_sample\", df_series[\"filename_sample\"])\n",
    "sample_img = skimage.io.imread(filename)\n",
    "\n",
    "thresh = skimage.filters.threshold_otsu(sample_img)\n",
    "binary = sample_img > thresh\n",
    "\n",
    "labels = skimage.segmentation.watershed(numpy.invert(sample_img), markers, mask=binary)\n",
    "\n",
    "\n",
    "labels2 = make_label_image(df_series)\n",
    "\n",
    "matplotlib.pyplot.imshow(labels2)\n"
   ]
  },
  {
   "cell_type": "code",
   "execution_count": null,
   "metadata": {
    "collapsed": true,
    "deletable": true,
    "editable": true
   },
   "outputs": [],
   "source": [
    "def make_label_image(df_series):\n",
    "    filename = os.path.join(cwd, \"..\", \"images\", \"images_seed\", df_series[\"filename_seed1\"])\n",
    "    seed1_img = skimage.io.imread(filename)\n",
    "    \n",
    "    filename = os.path.join(cwd, \"..\", \"images\", \"images_seed\", df_series[\"filename_seed2\"])\n",
    "    seed2_img = skimage.io.imread(filename)\n",
    "    \n",
    "    markers = skimage.measure.label(seed1_img + seed2_img)\n",
    "    \n",
    "    filename = os.path.join(cwd, \"..\", \"images\", \"images_sample\", df_series[\"filename_sample\"])\n",
    "    sample_img = skimage.io.imread(filename)\n",
    "    \n",
    "    thresh = skimage.filters.threshold_otsu(sample_img)\n",
    "    binary = sample_img > thresh\n",
    "    \n",
    "    labels = skimage.segmentation.watershed(numpy.invert(sample_img), markers, mask=binary)\n",
    "        \n",
    "    filename = os.path.join(cwd, \"..\", \"images\", \"images_label\", df_series[\"filename_label\"])\n",
    "    \n",
    "    skimage.io.imsave(filename, labels)\n",
    "    \n",
    "    return"
   ]
  },
  {
   "cell_type": "code",
   "execution_count": null,
   "metadata": {
    "collapsed": false,
    "deletable": true,
    "editable": true
   },
   "outputs": [],
   "source": [
    "_ = df.apply(make_label_image, axis=1)"
   ]
  },
  {
   "cell_type": "markdown",
   "metadata": {
    "deletable": true,
    "editable": true
   },
   "source": [
    "# Create pentaly matrices"
   ]
  },
  {
   "cell_type": "code",
   "execution_count": null,
   "metadata": {
    "collapsed": false
   },
   "outputs": [],
   "source": [
    "filename = os.path.join(cwd, \"..\", \"images\", \"images_label\", df_series[\"filename_label\"])\n",
    "label_img = skimage.io.imread(filename)\n",
    "\n",
    "cell1_bool_img = label_img == 1\n",
    "cell2_bool_img = label_img == 2\n",
    "matplotlib.pyplot.imshow(cell2_bool_img)"
   ]
  },
  {
   "cell_type": "code",
   "execution_count": null,
   "metadata": {
    "collapsed": false
   },
   "outputs": [],
   "source": [
    "filename = os.path.join(cwd, \"..\", \"images\", \"images_label\", df_series[\"filename_label\"])\n",
    "label_img = skimage.io.imread(filename)\n",
    "\n",
    "cell1_bool_img = label_img == 1\n",
    "cell2_bool_img = label_img == 2\n",
    "\n",
    "matplotlib.pyplot.imshow(label_img)\n",
    "\n",
    "img = numpy.zeros((im_size,im_size,4), dtype=\"float\")\n",
    "\n",
    "img[cell1_bool_img] = 1\n",
    "img[cell2_bool_img] = -1\n",
    "\n",
    "filename = os.path.join(cwd, \"..\", \"images\", \"images_penalty\", df_series[\"filename_penalty\"])\n",
    "skimage.io.imsave(filename, img)"
   ]
  },
  {
   "cell_type": "code",
   "execution_count": null,
   "metadata": {
    "collapsed": true
   },
   "outputs": [],
   "source": [
    "def make_penalty_image(df_series):\n",
    "    filename = os.path.join(cwd, \"..\", \"images\", \"images_seed\", df_series[\"filename_label\"])\n",
    "    label_img = skimage.io.imread(filename)\n",
    "    \n",
    "    cell1_bool_img = label_img == 1\n",
    "    cell2_bool_img = label_img == 2\n",
    "    \n",
    "    img = numpy.zeros((im_size,im_size), dtype=\"float\")\n",
    "    \n",
    "    img[cell1_bool_img] = 1\n",
    "    img[cell2_bool_img] = -1\n",
    "    \n",
    "    filename = os.path.join(cwd, \"..\", \"images\", \"images_penalty\", df_series[\"filename_penalty\"])\n",
    "    skimage.io.imsave(filename, img)\n",
    "    return"
   ]
  }
 ],
 "metadata": {
  "kernelspec": {
   "display_name": "Python 3",
   "language": "python",
   "name": "python3"
  },
  "language_info": {
   "codemirror_mode": {
    "name": "ipython",
    "version": 3
   },
   "file_extension": ".py",
   "mimetype": "text/x-python",
   "name": "python",
   "nbconvert_exporter": "python",
   "pygments_lexer": "ipython3",
   "version": "3.6.1"
  }
 },
 "nbformat": 4,
 "nbformat_minor": 2
}
