{
 "cells": [
  {
   "cell_type": "code",
   "execution_count": 1,
   "metadata": {
    "collapsed": true
   },
   "outputs": [],
   "source": [
    "%matplotlib inline\n",
    "\n",
    "import numpy as np\n",
    "import skimage.io\n",
    "import matplotlib.pyplot as plt\n",
    "\n",
    "import warnings"
   ]
  },
  {
   "cell_type": "code",
   "execution_count": 2,
   "metadata": {
    "collapsed": false
   },
   "outputs": [],
   "source": [
    "debug = False"
   ]
  },
  {
   "cell_type": "code",
   "execution_count": 3,
   "metadata": {
    "collapsed": true
   },
   "outputs": [],
   "source": [
    "dim1 = 64\n",
    "dim2 = 64"
   ]
  },
  {
   "cell_type": "code",
   "execution_count": 4,
   "metadata": {
    "collapsed": true
   },
   "outputs": [],
   "source": [
    "N = 100"
   ]
  },
  {
   "cell_type": "code",
   "execution_count": 5,
   "metadata": {
    "collapsed": false
   },
   "outputs": [],
   "source": [
    "# numpy array\n",
    "X = np.empty((N, dim1, dim2, 1), dtype=np.float)\n",
    "Y = np.empty((N, dim1, dim2, 1), dtype=np.ubyte)\n",
    "\n",
    "for i in range(N):\n",
    "    \n",
    "    random_x = np.random.rand(dim1, dim2)\n",
    "    random_y = np.random.randint(low=0, high=2, size=(dim1,dim2))\n",
    "    \n",
    "    X[i,:,:,:] = random_x.reshape((dim1, dim2, 1))\n",
    "    Y[i,:,:,:] = random_y.reshape((dim1, dim2, 1))\n",
    "    \n",
    "    if(debug):\n",
    "        plt.imshow(random_x)\n",
    "        plt.show()\n",
    "        plt.imshow(random_y)\n",
    "        plt.show()\n",
    "\n",
    "        plt.hist(random_x.flatten())\n",
    "        plt.show()\n",
    "        plt.hist(random_y.flatten())\n",
    "        plt.show()\n",
    "        \n",
    "    warnings.simplefilter('ignore')\n",
    "    skimage.io.imsave('./data/dummy/x/' + str(i) + '.png', random_x)\n",
    "    skimage.io.imsave('./data/dummy/y/' + str(i) + '.png', random_y)\n",
    "    \n",
    "np.save('./data/dummy/x.npy', X)\n",
    "np.save('./data/dummy/y.npy', Y)"
   ]
  }
 ],
 "metadata": {
  "kernelspec": {
   "display_name": "Python 3",
   "language": "python",
   "name": "python3"
  },
  "language_info": {
   "codemirror_mode": {
    "name": "ipython",
    "version": 3
   },
   "file_extension": ".py",
   "mimetype": "text/x-python",
   "name": "python",
   "nbconvert_exporter": "python",
   "pygments_lexer": "ipython3",
   "version": "3.6.1"
  }
 },
 "nbformat": 4,
 "nbformat_minor": 2
}
